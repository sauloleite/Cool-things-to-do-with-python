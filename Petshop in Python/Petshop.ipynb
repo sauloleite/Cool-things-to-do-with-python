{
 "metadata": {
  "language_info": {
   "codemirror_mode": {
    "name": "ipython",
    "version": 3
   },
   "file_extension": ".py",
   "mimetype": "text/x-python",
   "name": "python",
   "nbconvert_exporter": "python",
   "pygments_lexer": "ipython3",
   "version": "3.7.7-final"
  },
  "orig_nbformat": 2,
  "kernelspec": {
   "name": "python3",
   "display_name": "Python 3"
  }
 },
 "nbformat": 4,
 "nbformat_minor": 2,
 "cells": [
  {
   "cell_type": "code",
   "execution_count": null,
   "metadata": {},
   "outputs": [],
   "source": [
    "#OFICINA 02 INTRODUÇÃO A PYTHON. \n",
    "#PARA FACILITAR A BUSCA DO CLIENTE E PET, ADICIONEI UM \"IDENTIFICADOR\".\n",
    "def exibir_menu():\n",
    "    print('''Escolha uma opção:\n",
    "    1. Cadastrar um cliente\n",
    "    2. Cadastrar um pet\n",
    "    3. Listar cliente\n",
    "    4. Listar pet\n",
    "    5. Procurar dados de um cliente\n",
    "    6. Procurar dados de um cachorro\n",
    "    ''')"
   ]
  },
  {
   "cell_type": "code",
   "execution_count": null,
   "metadata": {},
   "outputs": [],
   "source": [
    "def cadastrar(pessoas):\n",
    "    identificador = input(\"Crie um Id para o cliente: \")\n",
    "    nome = input(\"Entre com o nome do cliente: \")\n",
    "    idade = int(input(\"Entre com a idade do cliente: \"))\n",
    "    end = input(\"Entre com o endereço do cliente: \")\n",
    "    tel = int(input(\"Entre com o número de telefone do cliente: \"))\n",
    "    pessoas.append((identificador, nome, idade, end, tel))\n",
    "    print(\"\\nCliente cadastrado com sucesso!\\n\")\n"
   ]
  },
  {
   "cell_type": "code",
   "execution_count": null,
   "metadata": {},
   "outputs": [],
   "source": [
    "def cadpet(pets):\n",
    "    identificadorp = input(\"Crie um Id para o pet: \")\n",
    "    nomep = input(\"Entre com o nome do cliente: \")\n",
    "    tipo = input(\"Entre com o tipo de pet (Cachorro ou Gato): \")\n",
    "    idadep = int(input(\"Entre com a idade do pet: \"))\n",
    "    peso = float(input(\"Entre com o peso do pet: \"))\n",
    "    doença = input(\"Entre com a doença do pet (Caso não haja, digite 'não há'): \"))\n",
    "    pets.append((identificadorp, nomep, tipo, idadep, peso, doença))\n",
    "    print(\"\\nPet cadastrado com sucesso!\\n\")"
   ]
  },
  {
   "cell_type": "code",
   "execution_count": null,
   "metadata": {},
   "outputs": [],
   "source": [
    "def listar(pessoas):\n",
    "    for pessoa in pessoas:\n",
    "        identificador, nome, idade, end, tel = pessoa\n",
    "        print(f'Id do cliente: {identificador}, Nome do cliente: {nome}, idade: {idade}, endereço: {end}, telefone: {tel}')"
   ]
  },
  {
   "cell_type": "code",
   "execution_count": null,
   "metadata": {},
   "outputs": [],
   "source": [
    "def listarp(pets):\n",
    "    for pet in pets:\n",
    "        identificadorp, nomep, tipo, idadep, peso, doença = pet\n",
    "        print(f'Id do pet: {identificadorp}, Nome do pet: {nomep}, Tipo: {tipo}, idade: {idadep}, peso:{peso}, doença:{doença}')"
   ]
  },
  {
   "cell_type": "code",
   "execution_count": null,
   "metadata": {},
   "outputs": [],
   "source": [
    "def buscar(pessoas):\n",
    "    identificador_desejado = input('Entre com o Id do cliente que deseja buscar: ')\n",
    "    for pessoa in pessoas:\n",
    "        identificador, nome, idade, end, tel = pessoa\n",
    "        if identificador == identificador_desejado:\n",
    "            print(f'Nome: {nome}, idade: {idade}, id: {identificador}')\n",
    "            break\n",
    "    else:\n",
    "        print(f'Pessoa com id {identificador_desejado} não encontrada')"
   ]
  },
  {
   "cell_type": "code",
   "execution_count": null,
   "metadata": {},
   "outputs": [],
   "source": [
    "def main():\n",
    "    pessoas = []\n",
    "    pets = []\n",
    "\n",
    "    while True:\n",
    "        exibir_menu()\n",
    "        opcao = int(input('Opção? '))\n",
    "        if opcao == 1:\n",
    "            cadastrar(pessoas)\n",
    "        elif opcao == 2:\n",
    "            cadpet(pets)\n",
    "        elif opcao == 3:\n",
    "            listar(pessoas)\n",
    "        elif opcao == 3:\n",
    "            buscar(pessoas)\n",
    "        else:\n",
    "            print('Opção inválida')"
   ]
  },
  {
   "cell_type": "code",
   "execution_count": null,
   "metadata": {},
   "outputs": [],
   "source": [
    "main()"
   ]
  },
  {
   "cell_type": "code",
   "execution_count": null,
   "metadata": {},
   "outputs": [],
   "source": []
  }
 ]
}